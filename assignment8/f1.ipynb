{
 "cells": [
  {
   "cell_type": "code",
   "execution_count": 4,
   "id": "4684c468",
   "metadata": {},
   "outputs": [],
   "source": [
    "import requests\n",
    "def get_current_f1_standings() -> dict:\n",
    "    \"\"\"Fetches the latest F1 standings and writes the data in google sheets. Returns the sheet link.\"\"\"\n",
    "    url = \"https://api.jolpi.ca/ergast/f1/2025/driverstandings/\"\n",
    "    response = requests.get(url, verify=False)  # verify=False to ignore SSL warnings\n",
    "\n",
    "    if response.status_code == 200:\n",
    "        data = response.json()\n",
    "        standings_list = data['MRData']['StandingsTable']['StandingsLists'][0]['DriverStandings']\n",
    "        \n",
    "        data = {}\n",
    "        for i, driver in enumerate(standings_list):\n",
    "            position = driver['position']\n",
    "            points = driver['points']\n",
    "            driver_name = driver['Driver']['givenName'] + \" \" + driver['Driver']['familyName']\n",
    "            nationality = driver['Driver']['nationality']\n",
    "            constructor = driver['Constructors'][0]['name']\n",
    "            \n",
    "            data[i] = [position, driver_name, nationality, constructor, points]\n",
    "\n",
    "        \n",
    "        return data\n",
    "    else:\n",
    "        \n",
    "        return {}"
   ]
  },
  {
   "cell_type": "code",
   "execution_count": 5,
   "id": "4b0429d1",
   "metadata": {},
   "outputs": [
    {
     "name": "stderr",
     "output_type": "stream",
     "text": [
      "e:\\ScratchPad\\EAG-Session-8-Assignment--main\\assignment8\\Lib\\site-packages\\urllib3\\connectionpool.py:1097: InsecureRequestWarning: Unverified HTTPS request is being made to host 'api.jolpi.ca'. Adding certificate verification is strongly advised. See: https://urllib3.readthedocs.io/en/latest/advanced-usage.html#tls-warnings\n",
      "  warnings.warn(\n"
     ]
    },
    {
     "data": {
      "text/plain": [
       "{0: ['1', 'Oscar Piastri', 'Australian', 'McLaren', '186'],\n",
       " 1: ['2', 'Lando Norris', 'British', 'McLaren', '176'],\n",
       " 2: ['3', 'Max Verstappen', 'Dutch', 'Red Bull', '137'],\n",
       " 3: ['4', 'George Russell', 'British', 'Mercedes', '111'],\n",
       " 4: ['5', 'Charles Leclerc', 'Monegasque', 'Ferrari', '94'],\n",
       " 5: ['6', 'Lewis Hamilton', 'British', 'Ferrari', '71'],\n",
       " 6: ['7', 'Andrea Kimi Antonelli', 'Italian', 'Mercedes', '48'],\n",
       " 7: ['8', 'Alexander Albon', 'Thai', 'Williams', '42'],\n",
       " 8: ['9', 'Isack Hadjar', 'French', 'RB F1 Team', '21'],\n",
       " 9: ['10', 'Esteban Ocon', 'French', 'Haas F1 Team', '20'],\n",
       " 10: ['11', 'Nico Hülkenberg', 'German', 'Sauber', '16'],\n",
       " 11: ['12', 'Lance Stroll', 'Canadian', 'Aston Martin', '14'],\n",
       " 12: ['13', 'Carlos Sainz', 'Spanish', 'Williams', '12'],\n",
       " 13: ['14', 'Pierre Gasly', 'French', 'Alpine F1 Team', '11'],\n",
       " 14: ['15', 'Yuki Tsunoda', 'Japanese', 'RB F1 Team', '10'],\n",
       " 15: ['16', 'Oliver Bearman', 'British', 'Haas F1 Team', '6'],\n",
       " 16: ['17', 'Liam Lawson', 'New Zealander', 'Red Bull', '4'],\n",
       " 17: ['18', 'Fernando Alonso', 'Spanish', 'Aston Martin', '2'],\n",
       " 18: ['19', 'Gabriel Bortoleto', 'Brazilian', 'Sauber', '0'],\n",
       " 19: ['20', 'Jack Doohan', 'Australian', 'Alpine F1 Team', '0'],\n",
       " 20: ['21', 'Franco Colapinto', 'Argentine', 'Alpine F1 Team', '0']}"
      ]
     },
     "execution_count": 5,
     "metadata": {},
     "output_type": "execute_result"
    }
   ],
   "source": [
    "get_current_f1_standings()"
   ]
  }
 ],
 "metadata": {
  "kernelspec": {
   "display_name": "assignment8",
   "language": "python",
   "name": "python3"
  },
  "language_info": {
   "codemirror_mode": {
    "name": "ipython",
    "version": 3
   },
   "file_extension": ".py",
   "mimetype": "text/x-python",
   "name": "python",
   "nbconvert_exporter": "python",
   "pygments_lexer": "ipython3",
   "version": "3.13.3"
  }
 },
 "nbformat": 4,
 "nbformat_minor": 5
}
